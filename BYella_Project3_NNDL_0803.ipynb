{
 "cells": [
  {
   "cell_type": "code",
   "execution_count": 1,
   "metadata": {},
   "outputs": [],
   "source": [
    "import numpy as np\n",
    "import pandas as pd\n"
   ]
  },
  {
   "cell_type": "code",
   "execution_count": 2,
   "metadata": {},
   "outputs": [],
   "source": [
    "from sklearn import preprocessing\n",
    "import sklearn\n",
    "from numpy.random import seed\n",
    "# from keras import optimizers\n",
    "from sklearn.model_selection import train_test_split\n",
    "from sklearn.preprocessing import StandardScaler\n",
    "\n",
    "seed = 7\n",
    "np.random.seed(seed)"
   ]
  },
  {
   "cell_type": "code",
   "execution_count": 3,
   "metadata": {
    "scrolled": true
   },
   "outputs": [
    {
     "data": {
      "text/plain": [
       "country                  118849\n",
       "description              118908\n",
       "designation               84716\n",
       "points                   118908\n",
       "price                    110579\n",
       "province                 118849\n",
       "region_1                  99555\n",
       "region_2                  46203\n",
       "taster_name               94194\n",
       "taster_twitter_handle     89705\n",
       "title                    118908\n",
       "variety                  118907\n",
       "winery                   118908\n",
       "year                     114952\n",
       "stars                    118908\n",
       "description_len          118908\n",
       "dtype: int64"
      ]
     },
     "execution_count": 3,
     "metadata": {},
     "output_type": "execute_result"
    }
   ],
   "source": [
    "df = pd.read_csv(\"winemag-data-year_parsed.csv\")\n",
    "df.head()\n",
    "df=df.drop( columns='Column1')\n",
    "df=df.drop_duplicates()\n",
    "df.count()"
   ]
  },
  {
   "cell_type": "code",
   "execution_count": 4,
   "metadata": {},
   "outputs": [
    {
     "data": {
      "text/html": [
       "<div>\n",
       "<style scoped>\n",
       "    .dataframe tbody tr th:only-of-type {\n",
       "        vertical-align: middle;\n",
       "    }\n",
       "\n",
       "    .dataframe tbody tr th {\n",
       "        vertical-align: top;\n",
       "    }\n",
       "\n",
       "    .dataframe thead th {\n",
       "        text-align: right;\n",
       "    }\n",
       "</style>\n",
       "<table border=\"1\" class=\"dataframe\">\n",
       "  <thead>\n",
       "    <tr style=\"text-align: right;\">\n",
       "      <th></th>\n",
       "      <th>country</th>\n",
       "      <th>description</th>\n",
       "      <th>designation</th>\n",
       "      <th>points</th>\n",
       "      <th>price</th>\n",
       "      <th>province</th>\n",
       "      <th>region_1</th>\n",
       "      <th>region_2</th>\n",
       "      <th>taster_name</th>\n",
       "      <th>taster_twitter_handle</th>\n",
       "      <th>title</th>\n",
       "      <th>variety</th>\n",
       "      <th>winery</th>\n",
       "      <th>year</th>\n",
       "      <th>stars</th>\n",
       "      <th>description_len</th>\n",
       "    </tr>\n",
       "  </thead>\n",
       "  <tbody>\n",
       "    <tr>\n",
       "      <th>0</th>\n",
       "      <td>Italy</td>\n",
       "      <td>Aromas include tropical fruit, broom, brimston...</td>\n",
       "      <td>Vulkà Bianco</td>\n",
       "      <td>87</td>\n",
       "      <td>NaN</td>\n",
       "      <td>Sicily &amp; Sardinia</td>\n",
       "      <td>Etna</td>\n",
       "      <td>NaN</td>\n",
       "      <td>Kerin O’Keefe</td>\n",
       "      <td>@kerinokeefe</td>\n",
       "      <td>Nicosia 2013 Vulkà Bianco  (Etna)</td>\n",
       "      <td>White Blend</td>\n",
       "      <td>Nicosia</td>\n",
       "      <td>2013.0</td>\n",
       "      <td>2</td>\n",
       "      <td>172</td>\n",
       "    </tr>\n",
       "    <tr>\n",
       "      <th>1</th>\n",
       "      <td>Portugal</td>\n",
       "      <td>This is ripe and fruity, a wine that is smooth...</td>\n",
       "      <td>Avidagos</td>\n",
       "      <td>87</td>\n",
       "      <td>15.0</td>\n",
       "      <td>Douro</td>\n",
       "      <td>NaN</td>\n",
       "      <td>NaN</td>\n",
       "      <td>Roger Voss</td>\n",
       "      <td>@vossroger</td>\n",
       "      <td>Quinta dos Avidagos 2011 Avidagos Red (Douro)</td>\n",
       "      <td>Portuguese Red</td>\n",
       "      <td>Quinta dos Avidagos</td>\n",
       "      <td>2011.0</td>\n",
       "      <td>2</td>\n",
       "      <td>227</td>\n",
       "    </tr>\n",
       "    <tr>\n",
       "      <th>2</th>\n",
       "      <td>US</td>\n",
       "      <td>Tart and snappy, the flavors of lime flesh and...</td>\n",
       "      <td>NaN</td>\n",
       "      <td>87</td>\n",
       "      <td>14.0</td>\n",
       "      <td>Oregon</td>\n",
       "      <td>Willamette Valley</td>\n",
       "      <td>Willamette Valley</td>\n",
       "      <td>Paul Gregutt</td>\n",
       "      <td>@paulgwine</td>\n",
       "      <td>Rainstorm 2013 Pinot Gris (Willamette Valley)</td>\n",
       "      <td>Pinot Gris</td>\n",
       "      <td>Rainstorm</td>\n",
       "      <td>2013.0</td>\n",
       "      <td>2</td>\n",
       "      <td>186</td>\n",
       "    </tr>\n",
       "  </tbody>\n",
       "</table>\n",
       "</div>"
      ],
      "text/plain": [
       "    country                                        description   designation  \\\n",
       "0     Italy  Aromas include tropical fruit, broom, brimston...  Vulkà Bianco   \n",
       "1  Portugal  This is ripe and fruity, a wine that is smooth...      Avidagos   \n",
       "2        US  Tart and snappy, the flavors of lime flesh and...           NaN   \n",
       "\n",
       "   points  price           province           region_1           region_2  \\\n",
       "0      87    NaN  Sicily & Sardinia               Etna                NaN   \n",
       "1      87   15.0              Douro                NaN                NaN   \n",
       "2      87   14.0             Oregon  Willamette Valley  Willamette Valley   \n",
       "\n",
       "     taster_name taster_twitter_handle  \\\n",
       "0  Kerin O’Keefe          @kerinokeefe   \n",
       "1     Roger Voss            @vossroger   \n",
       "2   Paul Gregutt           @paulgwine    \n",
       "\n",
       "                                           title         variety  \\\n",
       "0              Nicosia 2013 Vulkà Bianco  (Etna)     White Blend   \n",
       "1  Quinta dos Avidagos 2011 Avidagos Red (Douro)  Portuguese Red   \n",
       "2  Rainstorm 2013 Pinot Gris (Willamette Valley)      Pinot Gris   \n",
       "\n",
       "                winery    year  stars  description_len  \n",
       "0              Nicosia  2013.0      2              172  \n",
       "1  Quinta dos Avidagos  2011.0      2              227  \n",
       "2            Rainstorm  2013.0      2              186  "
      ]
     },
     "execution_count": 4,
     "metadata": {},
     "output_type": "execute_result"
    }
   ],
   "source": [
    "df.head(3)"
   ]
  },
  {
   "cell_type": "markdown",
   "metadata": {},
   "source": [
    "DROPPED NULL VALUES AND FILETERED OUT WINE OLDER THAN 1944"
   ]
  },
  {
   "cell_type": "code",
   "execution_count": 5,
   "metadata": {},
   "outputs": [],
   "source": [
    "selected_data=df[['country','description','points','price','province','region_1','title','variety','year','stars','description_len','winery']]\n",
    "selected_dropna=selected_data.dropna()\n",
    "selected_dropna=selected_dropna[selected_dropna['year'] >1944]"
   ]
  },
  {
   "cell_type": "code",
   "execution_count": 6,
   "metadata": {},
   "outputs": [
    {
     "data": {
      "text/html": [
       "<div>\n",
       "<style scoped>\n",
       "    .dataframe tbody tr th:only-of-type {\n",
       "        vertical-align: middle;\n",
       "    }\n",
       "\n",
       "    .dataframe tbody tr th {\n",
       "        vertical-align: top;\n",
       "    }\n",
       "\n",
       "    .dataframe thead th {\n",
       "        text-align: right;\n",
       "    }\n",
       "</style>\n",
       "<table border=\"1\" class=\"dataframe\">\n",
       "  <thead>\n",
       "    <tr style=\"text-align: right;\">\n",
       "      <th></th>\n",
       "      <th>country</th>\n",
       "      <th>description</th>\n",
       "      <th>points</th>\n",
       "      <th>price</th>\n",
       "      <th>province</th>\n",
       "      <th>region_1</th>\n",
       "      <th>title</th>\n",
       "      <th>variety</th>\n",
       "      <th>year</th>\n",
       "      <th>stars</th>\n",
       "      <th>description_len</th>\n",
       "      <th>winery</th>\n",
       "    </tr>\n",
       "  </thead>\n",
       "  <tbody>\n",
       "    <tr>\n",
       "      <th>2</th>\n",
       "      <td>US</td>\n",
       "      <td>Tart and snappy, the flavors of lime flesh and...</td>\n",
       "      <td>87</td>\n",
       "      <td>14.0</td>\n",
       "      <td>Oregon</td>\n",
       "      <td>Willamette Valley</td>\n",
       "      <td>Rainstorm 2013 Pinot Gris (Willamette Valley)</td>\n",
       "      <td>Pinot Gris</td>\n",
       "      <td>2013.0</td>\n",
       "      <td>2</td>\n",
       "      <td>186</td>\n",
       "      <td>Rainstorm</td>\n",
       "    </tr>\n",
       "    <tr>\n",
       "      <th>3</th>\n",
       "      <td>US</td>\n",
       "      <td>Pineapple rind, lemon pith and orange blossom ...</td>\n",
       "      <td>87</td>\n",
       "      <td>13.0</td>\n",
       "      <td>Michigan</td>\n",
       "      <td>Lake Michigan Shore</td>\n",
       "      <td>St. Julian 2013 Reserve Late Harvest Riesling ...</td>\n",
       "      <td>Riesling</td>\n",
       "      <td>2013.0</td>\n",
       "      <td>2</td>\n",
       "      <td>199</td>\n",
       "      <td>St. Julian</td>\n",
       "    </tr>\n",
       "    <tr>\n",
       "      <th>4</th>\n",
       "      <td>US</td>\n",
       "      <td>Much like the regular bottling from 2012, this...</td>\n",
       "      <td>87</td>\n",
       "      <td>65.0</td>\n",
       "      <td>Oregon</td>\n",
       "      <td>Willamette Valley</td>\n",
       "      <td>Sweet Cheeks 2012 Vintner's Reserve Wild Child...</td>\n",
       "      <td>Pinot Noir</td>\n",
       "      <td>2012.0</td>\n",
       "      <td>2</td>\n",
       "      <td>249</td>\n",
       "      <td>Sweet Cheeks</td>\n",
       "    </tr>\n",
       "    <tr>\n",
       "      <th>5</th>\n",
       "      <td>Spain</td>\n",
       "      <td>Blackberry and raspberry aromas show a typical...</td>\n",
       "      <td>87</td>\n",
       "      <td>15.0</td>\n",
       "      <td>Northern Spain</td>\n",
       "      <td>Navarra</td>\n",
       "      <td>Tandem 2011 Ars In Vitro Tempranillo-Merlot (N...</td>\n",
       "      <td>Tempranillo-Merlot</td>\n",
       "      <td>2011.0</td>\n",
       "      <td>2</td>\n",
       "      <td>261</td>\n",
       "      <td>Tandem</td>\n",
       "    </tr>\n",
       "  </tbody>\n",
       "</table>\n",
       "</div>"
      ],
      "text/plain": [
       "  country                                        description  points  price  \\\n",
       "2      US  Tart and snappy, the flavors of lime flesh and...      87   14.0   \n",
       "3      US  Pineapple rind, lemon pith and orange blossom ...      87   13.0   \n",
       "4      US  Much like the regular bottling from 2012, this...      87   65.0   \n",
       "5   Spain  Blackberry and raspberry aromas show a typical...      87   15.0   \n",
       "\n",
       "         province             region_1  \\\n",
       "2          Oregon    Willamette Valley   \n",
       "3        Michigan  Lake Michigan Shore   \n",
       "4          Oregon    Willamette Valley   \n",
       "5  Northern Spain              Navarra   \n",
       "\n",
       "                                               title             variety  \\\n",
       "2      Rainstorm 2013 Pinot Gris (Willamette Valley)          Pinot Gris   \n",
       "3  St. Julian 2013 Reserve Late Harvest Riesling ...            Riesling   \n",
       "4  Sweet Cheeks 2012 Vintner's Reserve Wild Child...          Pinot Noir   \n",
       "5  Tandem 2011 Ars In Vitro Tempranillo-Merlot (N...  Tempranillo-Merlot   \n",
       "\n",
       "     year  stars  description_len        winery  \n",
       "2  2013.0      2              186     Rainstorm  \n",
       "3  2013.0      2              199    St. Julian  \n",
       "4  2012.0      2              249  Sweet Cheeks  \n",
       "5  2011.0      2              261        Tandem  "
      ]
     },
     "execution_count": 6,
     "metadata": {},
     "output_type": "execute_result"
    }
   ],
   "source": [
    "selected_dropna.head(4)"
   ]
  },
  {
   "cell_type": "code",
   "execution_count": 7,
   "metadata": {},
   "outputs": [
    {
     "data": {
      "text/plain": [
       "country             object\n",
       "price              float64\n",
       "region_1            object\n",
       "variety             object\n",
       "year               float64\n",
       "stars                int64\n",
       "description_len      int64\n",
       "winery              object\n",
       "dtype: object"
      ]
     },
     "execution_count": 7,
     "metadata": {},
     "output_type": "execute_result"
    }
   ],
   "source": [
    "selected_data=selected_dropna[['country','price','region_1','variety','year','stars','description_len','winery']]\n",
    "points_selected=[]\n",
    "\n",
    "selected_data.dtypes"
   ]
  },
  {
   "cell_type": "code",
   "execution_count": 8,
   "metadata": {},
   "outputs": [
    {
     "data": {
      "text/html": [
       "<div>\n",
       "<style scoped>\n",
       "    .dataframe tbody tr th:only-of-type {\n",
       "        vertical-align: middle;\n",
       "    }\n",
       "\n",
       "    .dataframe tbody tr th {\n",
       "        vertical-align: top;\n",
       "    }\n",
       "\n",
       "    .dataframe thead th {\n",
       "        text-align: right;\n",
       "    }\n",
       "</style>\n",
       "<table border=\"1\" class=\"dataframe\">\n",
       "  <thead>\n",
       "    <tr style=\"text-align: right;\">\n",
       "      <th></th>\n",
       "      <th>country</th>\n",
       "      <th>region_1</th>\n",
       "      <th>variety</th>\n",
       "      <th>winery</th>\n",
       "    </tr>\n",
       "  </thead>\n",
       "  <tbody>\n",
       "    <tr>\n",
       "      <th>2</th>\n",
       "      <td>US</td>\n",
       "      <td>Willamette Valley</td>\n",
       "      <td>Pinot Gris</td>\n",
       "      <td>Rainstorm</td>\n",
       "    </tr>\n",
       "    <tr>\n",
       "      <th>3</th>\n",
       "      <td>US</td>\n",
       "      <td>Lake Michigan Shore</td>\n",
       "      <td>Riesling</td>\n",
       "      <td>St. Julian</td>\n",
       "    </tr>\n",
       "    <tr>\n",
       "      <th>4</th>\n",
       "      <td>US</td>\n",
       "      <td>Willamette Valley</td>\n",
       "      <td>Pinot Noir</td>\n",
       "      <td>Sweet Cheeks</td>\n",
       "    </tr>\n",
       "  </tbody>\n",
       "</table>\n",
       "</div>"
      ],
      "text/plain": [
       "  country             region_1     variety        winery\n",
       "2      US    Willamette Valley  Pinot Gris     Rainstorm\n",
       "3      US  Lake Michigan Shore    Riesling    St. Julian\n",
       "4      US    Willamette Valley  Pinot Noir  Sweet Cheeks"
      ]
     },
     "execution_count": 8,
     "metadata": {},
     "output_type": "execute_result"
    }
   ],
   "source": [
    "X = selected_data.select_dtypes(include=[object])\n",
    "X.head(3)"
   ]
  },
  {
   "cell_type": "code",
   "execution_count": 9,
   "metadata": {},
   "outputs": [],
   "source": [
    "# # FUNCTION FOR FITTING AND TRANSFORMING NON-NUMERIC DATA INTO NUMERIC\n",
    "\n",
    "# # TODO: create a LabelEncoder object and fit it to each feature in X\n",
    "\n",
    "# # 1. INSTANTIATE\n",
    "# # encode labels with value between 0 and n_classes-1.\n",
    "# le = preprocessing.LabelEncoder()\n",
    "# # 2/3. FIT AND TRANSFORM\n",
    "# # use df.apply() to apply le.fit_transform to all columns\n",
    "# #CREATE A FUNCTION\n",
    "# def transformed(transform_this):\n",
    "#     user_input1 = transform_this.apply(le.fit_transform)\n",
    "#     return (user_input1)\n",
    "import matplotlib.pyplot as plt\n",
    "import numpy as np\n",
    "import sklearn\n",
    "import sklearn.datasets\n",
    "from numpy.random import seed\n",
    "from sklearn import preprocessing\n",
    "le = preprocessing.LabelEncoder()\n",
    "seed(0)\n",
    "\n",
    "\n",
    "# TODO: create a LabelEncoder object and fit it to each feature in X\n",
    "\n",
    "\n",
    "# 1. INSTANTIATE\n",
    "# encode labels with value between 0 and n_classes-1.\n",
    "le = preprocessing.LabelEncoder()\n",
    "\n",
    "\n",
    "# 2/3. FIT AND TRANSFORM\n",
    "# use df.apply() to apply le.fit_transform to all columns\n",
    "X_2 = X.apply(le.fit_transform)\n",
    "\n",
    "\n"
   ]
  },
  {
   "cell_type": "code",
   "execution_count": 10,
   "metadata": {},
   "outputs": [
    {
     "data": {
      "text/html": [
       "<div>\n",
       "<style scoped>\n",
       "    .dataframe tbody tr th:only-of-type {\n",
       "        vertical-align: middle;\n",
       "    }\n",
       "\n",
       "    .dataframe tbody tr th {\n",
       "        vertical-align: top;\n",
       "    }\n",
       "\n",
       "    .dataframe thead th {\n",
       "        text-align: right;\n",
       "    }\n",
       "</style>\n",
       "<table border=\"1\" class=\"dataframe\">\n",
       "  <thead>\n",
       "    <tr style=\"text-align: right;\">\n",
       "      <th></th>\n",
       "      <th>country</th>\n",
       "      <th>region_1</th>\n",
       "      <th>variety</th>\n",
       "      <th>winery</th>\n",
       "    </tr>\n",
       "  </thead>\n",
       "  <tbody>\n",
       "    <tr>\n",
       "      <th>2</th>\n",
       "      <td>6</td>\n",
       "      <td>1179</td>\n",
       "      <td>311</td>\n",
       "      <td>10353</td>\n",
       "    </tr>\n",
       "    <tr>\n",
       "      <th>3</th>\n",
       "      <td>6</td>\n",
       "      <td>530</td>\n",
       "      <td>340</td>\n",
       "      <td>11437</td>\n",
       "    </tr>\n",
       "    <tr>\n",
       "      <th>4</th>\n",
       "      <td>6</td>\n",
       "      <td>1179</td>\n",
       "      <td>315</td>\n",
       "      <td>11609</td>\n",
       "    </tr>\n",
       "    <tr>\n",
       "      <th>5</th>\n",
       "      <td>5</td>\n",
       "      <td>726</td>\n",
       "      <td>423</td>\n",
       "      <td>11676</td>\n",
       "    </tr>\n",
       "    <tr>\n",
       "      <th>6</th>\n",
       "      <td>4</td>\n",
       "      <td>1166</td>\n",
       "      <td>128</td>\n",
       "      <td>11936</td>\n",
       "    </tr>\n",
       "  </tbody>\n",
       "</table>\n",
       "</div>"
      ],
      "text/plain": [
       "   country  region_1  variety  winery\n",
       "2        6      1179      311   10353\n",
       "3        6       530      340   11437\n",
       "4        6      1179      315   11609\n",
       "5        5       726      423   11676\n",
       "6        4      1166      128   11936"
      ]
     },
     "execution_count": 10,
     "metadata": {},
     "output_type": "execute_result"
    }
   ],
   "source": [
    "#FIT AND TRANSFORM NON NUMERIC DATA USING 'transformed' FUNCTION\n",
    "# X_2 = transformed(X)\n",
    "X_2.head()\n"
   ]
  },
  {
   "cell_type": "markdown",
   "metadata": {},
   "source": [
    "VERIFY DATA AND EXPORT TO CSV"
   ]
  },
  {
   "cell_type": "code",
   "execution_count": 11,
   "metadata": {
    "scrolled": true
   },
   "outputs": [
    {
     "data": {
      "text/html": [
       "<div>\n",
       "<style scoped>\n",
       "    .dataframe tbody tr th:only-of-type {\n",
       "        vertical-align: middle;\n",
       "    }\n",
       "\n",
       "    .dataframe tbody tr th {\n",
       "        vertical-align: top;\n",
       "    }\n",
       "\n",
       "    .dataframe thead th {\n",
       "        text-align: right;\n",
       "    }\n",
       "</style>\n",
       "<table border=\"1\" class=\"dataframe\">\n",
       "  <thead>\n",
       "    <tr style=\"text-align: right;\">\n",
       "      <th></th>\n",
       "      <th>country_code</th>\n",
       "      <th>description_len</th>\n",
       "      <th>price</th>\n",
       "      <th>region_1_code</th>\n",
       "      <th>variety_code</th>\n",
       "      <th>year</th>\n",
       "      <th>country</th>\n",
       "      <th>region_1</th>\n",
       "      <th>variety</th>\n",
       "      <th>stars</th>\n",
       "      <th>points</th>\n",
       "      <th>winery</th>\n",
       "    </tr>\n",
       "  </thead>\n",
       "  <tbody>\n",
       "    <tr>\n",
       "      <th>0</th>\n",
       "      <td>6</td>\n",
       "      <td>186</td>\n",
       "      <td>14.0</td>\n",
       "      <td>1179</td>\n",
       "      <td>311</td>\n",
       "      <td>2013.0</td>\n",
       "      <td>US</td>\n",
       "      <td>Willamette Valley</td>\n",
       "      <td>Pinot Gris</td>\n",
       "      <td>2</td>\n",
       "      <td>87</td>\n",
       "      <td>Rainstorm</td>\n",
       "    </tr>\n",
       "    <tr>\n",
       "      <th>1</th>\n",
       "      <td>6</td>\n",
       "      <td>199</td>\n",
       "      <td>13.0</td>\n",
       "      <td>530</td>\n",
       "      <td>340</td>\n",
       "      <td>2013.0</td>\n",
       "      <td>US</td>\n",
       "      <td>Lake Michigan Shore</td>\n",
       "      <td>Riesling</td>\n",
       "      <td>2</td>\n",
       "      <td>87</td>\n",
       "      <td>St. Julian</td>\n",
       "    </tr>\n",
       "    <tr>\n",
       "      <th>2</th>\n",
       "      <td>6</td>\n",
       "      <td>249</td>\n",
       "      <td>65.0</td>\n",
       "      <td>1179</td>\n",
       "      <td>315</td>\n",
       "      <td>2012.0</td>\n",
       "      <td>US</td>\n",
       "      <td>Willamette Valley</td>\n",
       "      <td>Pinot Noir</td>\n",
       "      <td>2</td>\n",
       "      <td>87</td>\n",
       "      <td>Sweet Cheeks</td>\n",
       "    </tr>\n",
       "    <tr>\n",
       "      <th>3</th>\n",
       "      <td>5</td>\n",
       "      <td>261</td>\n",
       "      <td>15.0</td>\n",
       "      <td>726</td>\n",
       "      <td>423</td>\n",
       "      <td>2011.0</td>\n",
       "      <td>Spain</td>\n",
       "      <td>Navarra</td>\n",
       "      <td>Tempranillo-Merlot</td>\n",
       "      <td>2</td>\n",
       "      <td>87</td>\n",
       "      <td>Tandem</td>\n",
       "    </tr>\n",
       "    <tr>\n",
       "      <th>4</th>\n",
       "      <td>4</td>\n",
       "      <td>181</td>\n",
       "      <td>16.0</td>\n",
       "      <td>1166</td>\n",
       "      <td>128</td>\n",
       "      <td>2013.0</td>\n",
       "      <td>Italy</td>\n",
       "      <td>Vittoria</td>\n",
       "      <td>Frappato</td>\n",
       "      <td>2</td>\n",
       "      <td>87</td>\n",
       "      <td>Terre di Giurfo</td>\n",
       "    </tr>\n",
       "  </tbody>\n",
       "</table>\n",
       "</div>"
      ],
      "text/plain": [
       "   country_code  description_len  price  region_1_code  variety_code    year  \\\n",
       "0             6              186   14.0           1179           311  2013.0   \n",
       "1             6              199   13.0            530           340  2013.0   \n",
       "2             6              249   65.0           1179           315  2012.0   \n",
       "3             5              261   15.0            726           423  2011.0   \n",
       "4             4              181   16.0           1166           128  2013.0   \n",
       "\n",
       "  country             region_1             variety  stars  points  \\\n",
       "0      US    Willamette Valley          Pinot Gris      2      87   \n",
       "1      US  Lake Michigan Shore            Riesling      2      87   \n",
       "2      US    Willamette Valley          Pinot Noir      2      87   \n",
       "3   Spain              Navarra  Tempranillo-Merlot      2      87   \n",
       "4   Italy             Vittoria            Frappato      2      87   \n",
       "\n",
       "            winery  \n",
       "0        Rainstorm  \n",
       "1       St. Julian  \n",
       "2     Sweet Cheeks  \n",
       "3           Tandem  \n",
       "4  Terre di Giurfo  "
      ]
     },
     "execution_count": 11,
     "metadata": {},
     "output_type": "execute_result"
    }
   ],
   "source": [
    "# THIS IS FOR VARIFYING THE DATA ---NOTHING TO DO WITH CODE---\n",
    "verify_data=pd.DataFrame({\n",
    "    'country_code': X_2['country'],\n",
    "    'price': selected_dropna['price'],\n",
    "    'region_1_code': X_2['region_1'],\n",
    "    'variety_code': X_2['variety'],\n",
    "    'year': selected_dropna['year'],\n",
    "    'description_len': selected_dropna['description_len'],\n",
    "    'country':selected_dropna['country'],\n",
    "    'region_1': selected_dropna['region_1'],\n",
    "    'variety': selected_dropna['variety'],\n",
    "    'stars': selected_dropna['stars'],\n",
    "    'points': selected_dropna['points'],\n",
    "    'winery': selected_dropna['winery']\n",
    "}\n",
    ").reset_index(drop=True)\n",
    "verify_data=verify_data[['country_code','description_len','price','region_1_code','variety_code','year','country','region_1','variety','stars','points','winery']]\n",
    "\n",
    "verify_data.to_csv('verify_data.csv')\n",
    "verify_data.head()"
   ]
  },
  {
   "cell_type": "code",
   "execution_count": null,
   "metadata": {},
   "outputs": [],
   "source": []
  },
  {
   "cell_type": "code",
   "execution_count": 12,
   "metadata": {
    "scrolled": true
   },
   "outputs": [
    {
     "name": "stderr",
     "output_type": "stream",
     "text": [
      "/anaconda3/lib/python3.6/site-packages/h5py/__init__.py:36: FutureWarning: Conversion of the second argument of issubdtype from `float` to `np.floating` is deprecated. In future, it will be treated as `np.float64 == np.dtype(float).type`.\n",
      "  from ._conv import register_converters as _register_converters\n",
      "Using TensorFlow backend.\n"
     ]
    },
    {
     "data": {
      "text/plain": [
       "(89473, 6)"
      ]
     },
     "execution_count": 12,
     "metadata": {},
     "output_type": "execute_result"
    }
   ],
   "source": [
    "#SELECTING THE CLASSES OUTPUT VALUES FOR CREATING CLASSES. THE STAR VALUES ARE USED TO REDUCE THE PROCESSING TIME. \n",
    "#THE ACCURACY OF THE MODEL IS BETTER WITH USING STARS THAN WITH POINTS\n",
    "\n",
    "import keras\n",
    "\n",
    "y=selected_dropna['stars'].values\n",
    "# y=[80,81,82,83,84,85,86,87,88,89,90,91,92,93,94,95,96,97,98,99,100]\n",
    "t=np.asarray(y)\n",
    "t.shape\n",
    "\n",
    "n=keras.utils.to_categorical(t, num_classes=None)\n",
    "n.shape"
   ]
  },
  {
   "cell_type": "code",
   "execution_count": 13,
   "metadata": {
    "scrolled": true
   },
   "outputs": [],
   "source": [
    "#INSERT THE TRANSFORMED DATA INTO THE DATAFRAME\n",
    "# def dataframe_withtransformed_data(DF1, DF2):\n",
    "#     new_data=pd.DataFrame({\n",
    "#         'country': DF1['country'],\n",
    "#         'price': DF2['price'],\n",
    "#         'region_1': DF1['region_1'],\n",
    "#         'variety': DF1['variety'],\n",
    "#         'year': DF2['year'],\n",
    "#         'description_len': DF2['description_len']\n",
    "#     }).reset_index(drop=True)\n",
    "#     return(new_data)"
   ]
  },
  {
   "cell_type": "code",
   "execution_count": 14,
   "metadata": {},
   "outputs": [],
   "source": [
    "new_data=pd.DataFrame({\n",
    "    'country': X_2['country'],\n",
    "    'price': selected_dropna['price'],\n",
    "    'region_1': X_2['region_1'],\n",
    "    'variety': X_2['variety'],\n",
    "    'year': selected_dropna['year'],\n",
    "    'description_len': selected_dropna['description_len'],\n",
    "    'winery':X_2['winery']\n",
    "})\n",
    "# .reset_index(drop=True)"
   ]
  },
  {
   "cell_type": "code",
   "execution_count": 15,
   "metadata": {},
   "outputs": [],
   "source": [
    "#INSERT THE TRANSFORMED DATA INTO THE DATAFRAME\n",
    "# new_data=dataframe_withtransformed_data(X_2,selected_dropna)"
   ]
  },
  {
   "cell_type": "code",
   "execution_count": 16,
   "metadata": {},
   "outputs": [
    {
     "data": {
      "text/html": [
       "<div>\n",
       "<style scoped>\n",
       "    .dataframe tbody tr th:only-of-type {\n",
       "        vertical-align: middle;\n",
       "    }\n",
       "\n",
       "    .dataframe tbody tr th {\n",
       "        vertical-align: top;\n",
       "    }\n",
       "\n",
       "    .dataframe thead th {\n",
       "        text-align: right;\n",
       "    }\n",
       "</style>\n",
       "<table border=\"1\" class=\"dataframe\">\n",
       "  <thead>\n",
       "    <tr style=\"text-align: right;\">\n",
       "      <th></th>\n",
       "      <th>country</th>\n",
       "      <th>price</th>\n",
       "      <th>region_1</th>\n",
       "      <th>variety</th>\n",
       "      <th>year</th>\n",
       "      <th>description_len</th>\n",
       "      <th>winery</th>\n",
       "    </tr>\n",
       "  </thead>\n",
       "  <tbody>\n",
       "    <tr>\n",
       "      <th>2</th>\n",
       "      <td>6</td>\n",
       "      <td>14.0</td>\n",
       "      <td>1179</td>\n",
       "      <td>311</td>\n",
       "      <td>2013.0</td>\n",
       "      <td>186</td>\n",
       "      <td>10353</td>\n",
       "    </tr>\n",
       "    <tr>\n",
       "      <th>3</th>\n",
       "      <td>6</td>\n",
       "      <td>13.0</td>\n",
       "      <td>530</td>\n",
       "      <td>340</td>\n",
       "      <td>2013.0</td>\n",
       "      <td>199</td>\n",
       "      <td>11437</td>\n",
       "    </tr>\n",
       "    <tr>\n",
       "      <th>4</th>\n",
       "      <td>6</td>\n",
       "      <td>65.0</td>\n",
       "      <td>1179</td>\n",
       "      <td>315</td>\n",
       "      <td>2012.0</td>\n",
       "      <td>249</td>\n",
       "      <td>11609</td>\n",
       "    </tr>\n",
       "    <tr>\n",
       "      <th>5</th>\n",
       "      <td>5</td>\n",
       "      <td>15.0</td>\n",
       "      <td>726</td>\n",
       "      <td>423</td>\n",
       "      <td>2011.0</td>\n",
       "      <td>261</td>\n",
       "      <td>11676</td>\n",
       "    </tr>\n",
       "    <tr>\n",
       "      <th>6</th>\n",
       "      <td>4</td>\n",
       "      <td>16.0</td>\n",
       "      <td>1166</td>\n",
       "      <td>128</td>\n",
       "      <td>2013.0</td>\n",
       "      <td>181</td>\n",
       "      <td>11936</td>\n",
       "    </tr>\n",
       "  </tbody>\n",
       "</table>\n",
       "</div>"
      ],
      "text/plain": [
       "   country  price  region_1  variety    year  description_len  winery\n",
       "2        6   14.0      1179      311  2013.0              186   10353\n",
       "3        6   13.0       530      340  2013.0              199   11437\n",
       "4        6   65.0      1179      315  2012.0              249   11609\n",
       "5        5   15.0       726      423  2011.0              261   11676\n",
       "6        4   16.0      1166      128  2013.0              181   11936"
      ]
     },
     "execution_count": 16,
     "metadata": {},
     "output_type": "execute_result"
    }
   ],
   "source": [
    "new_data=new_data[[\n",
    "    'country',\n",
    "    'price',\n",
    "    'region_1',\n",
    "    'variety',\n",
    "    'year',\n",
    "    'description_len',\n",
    "    'winery'\n",
    "]]\n",
    "new_data.head()"
   ]
  },
  {
   "cell_type": "code",
   "execution_count": 17,
   "metadata": {},
   "outputs": [
    {
     "data": {
      "text/plain": [
       "array([6.0000e+00, 1.4000e+01, 1.1790e+03, 3.1100e+02, 2.0130e+03,\n",
       "       1.8600e+02, 1.0353e+04])"
      ]
     },
     "execution_count": 17,
     "metadata": {},
     "output_type": "execute_result"
    }
   ],
   "source": [
    "X=new_data.values\n",
    "X[0]"
   ]
  },
  {
   "cell_type": "code",
   "execution_count": 18,
   "metadata": {},
   "outputs": [
    {
     "name": "stdout",
     "output_type": "stream",
     "text": [
      "(67104, 7) (67104, 6)\n"
     ]
    },
    {
     "data": {
      "text/plain": [
       "array([[4.0000e+00, 2.2000e+01, 1.9900e+02, ..., 2.0130e+03, 2.3400e+02,\n",
       "        4.6470e+03],\n",
       "       [4.0000e+00, 3.9000e+01, 1.1130e+03, ..., 2.0060e+03, 1.9900e+02,\n",
       "        8.2000e+03],\n",
       "       [6.0000e+00, 2.0000e+01, 9.7600e+02, ..., 2.0120e+03, 2.4000e+02,\n",
       "        7.0190e+03],\n",
       "       ...,\n",
       "       [0.0000e+00, 5.0000e+01, 1.0710e+03, ..., 2.0130e+03, 3.4200e+02,\n",
       "        1.0836e+04],\n",
       "       [4.0000e+00, 2.6000e+01, 2.6400e+02, ..., 2.0130e+03, 2.4200e+02,\n",
       "        1.0774e+04],\n",
       "       [3.0000e+00, 1.5000e+03, 9.0300e+02, ..., 2.0100e+03, 3.6800e+02,\n",
       "        2.5290e+03]])"
      ]
     },
     "execution_count": 18,
     "metadata": {},
     "output_type": "execute_result"
    }
   ],
   "source": [
    "# TRAIN AND TEST DATA SPLIT\n",
    "X_train, X_test, y_train, y_test = train_test_split(X, n, random_state=1)\n",
    "print(X_train.shape, y_train.shape)\n",
    "X_train"
   ]
  },
  {
   "cell_type": "code",
   "execution_count": 19,
   "metadata": {},
   "outputs": [
    {
     "data": {
      "text/plain": [
       "StandardScaler(copy=True, with_mean=True, with_std=True)"
      ]
     },
     "execution_count": 19,
     "metadata": {},
     "output_type": "execute_result"
    }
   ],
   "source": [
    "#SCALING X_train and y_train\n",
    "X_scaler = StandardScaler().fit(X_train)\n",
    "y_scaler = StandardScaler().fit(y_train)\n",
    "X_scaler"
   ]
  },
  {
   "cell_type": "code",
   "execution_count": 20,
   "metadata": {},
   "outputs": [],
   "source": [
    "#SCALING X_train and y_train\n",
    "X_train_scaled = X_scaler.transform(X_train)\n",
    "X_test_scaled = X_scaler.transform(X_test)\n",
    "\n",
    "y_train_scaled = y_scaler.transform(y_train)\n",
    "y_test_scaled = y_scaler.transform(y_test)"
   ]
  },
  {
   "cell_type": "code",
   "execution_count": 21,
   "metadata": {},
   "outputs": [
    {
     "data": {
      "text/plain": [
       "array([-0.46330429, -0.35037765, -1.10501992,  0.76539976,  0.67688679,\n",
       "       -0.16422768, -0.59700007])"
      ]
     },
     "execution_count": 21,
     "metadata": {},
     "output_type": "execute_result"
    }
   ],
   "source": [
    "X_train_scaled[0]"
   ]
  },
  {
   "cell_type": "code",
   "execution_count": 22,
   "metadata": {},
   "outputs": [],
   "source": [
    "from keras.models import Sequential\n",
    "\n",
    "model = Sequential()\n",
    "from keras.layers import Dense\n",
    "number_inputs = 7\n",
    "number_hidden_nodes = 8\n",
    "model.add(Dense(units=number_hidden_nodes,\n",
    "                activation='relu', input_dim=number_inputs))\n",
    "model.add(Dense(units=12, activation='relu'))\n",
    "model.add(Dense(units=8, activation='relu'))\n",
    "model.add(Dense(units=8, activation='relu'))\n",
    "model.add(Dense(units=16, activation='relu'))"
   ]
  },
  {
   "cell_type": "code",
   "execution_count": 23,
   "metadata": {},
   "outputs": [],
   "source": [
    "number_classes = 6\n",
    "model.add(Dense(units=number_classes, activation='sigmoid'))\n"
   ]
  },
  {
   "cell_type": "code",
   "execution_count": 24,
   "metadata": {
    "scrolled": true
   },
   "outputs": [
    {
     "name": "stdout",
     "output_type": "stream",
     "text": [
      "_________________________________________________________________\n",
      "Layer (type)                 Output Shape              Param #   \n",
      "=================================================================\n",
      "dense_1 (Dense)              (None, 8)                 64        \n",
      "_________________________________________________________________\n",
      "dense_2 (Dense)              (None, 12)                108       \n",
      "_________________________________________________________________\n",
      "dense_3 (Dense)              (None, 8)                 104       \n",
      "_________________________________________________________________\n",
      "dense_4 (Dense)              (None, 8)                 72        \n",
      "_________________________________________________________________\n",
      "dense_5 (Dense)              (None, 16)                144       \n",
      "_________________________________________________________________\n",
      "dense_6 (Dense)              (None, 6)                 102       \n",
      "=================================================================\n",
      "Total params: 594\n",
      "Trainable params: 594\n",
      "Non-trainable params: 0\n",
      "_________________________________________________________________\n"
     ]
    }
   ],
   "source": [
    "model.summary()"
   ]
  },
  {
   "cell_type": "code",
   "execution_count": 25,
   "metadata": {},
   "outputs": [],
   "source": [
    "model.compile(optimizer='adam',\n",
    "              loss='binary_crossentropy',\n",
    "              metrics=['accuracy'])"
   ]
  },
  {
   "cell_type": "code",
   "execution_count": 26,
   "metadata": {},
   "outputs": [
    {
     "name": "stdout",
     "output_type": "stream",
     "text": [
      "Epoch 1/50\n",
      " - 3s - loss: 0.3059 - acc: 0.8482\n",
      "Epoch 2/50\n",
      " - 3s - loss: 0.2673 - acc: 0.8662\n",
      "Epoch 3/50\n",
      " - 3s - loss: 0.2648 - acc: 0.8676\n",
      "Epoch 4/50\n",
      " - 3s - loss: 0.2623 - acc: 0.8686\n",
      "Epoch 5/50\n",
      " - 3s - loss: 0.2607 - acc: 0.8695\n",
      "Epoch 6/50\n",
      " - 3s - loss: 0.2598 - acc: 0.8699\n",
      "Epoch 7/50\n",
      " - 3s - loss: 0.2589 - acc: 0.8709\n",
      "Epoch 8/50\n",
      " - 3s - loss: 0.2585 - acc: 0.8709\n",
      "Epoch 9/50\n",
      " - 3s - loss: 0.2579 - acc: 0.8714\n",
      "Epoch 10/50\n",
      " - 3s - loss: 0.2575 - acc: 0.8715\n",
      "Epoch 11/50\n",
      " - 3s - loss: 0.2571 - acc: 0.8717\n",
      "Epoch 12/50\n",
      " - 3s - loss: 0.2569 - acc: 0.8719\n",
      "Epoch 13/50\n",
      " - 3s - loss: 0.2568 - acc: 0.8721\n",
      "Epoch 14/50\n",
      " - 3s - loss: 0.2565 - acc: 0.8718\n",
      "Epoch 15/50\n",
      " - 3s - loss: 0.2564 - acc: 0.8719\n",
      "Epoch 16/50\n",
      " - 3s - loss: 0.2562 - acc: 0.8723\n",
      "Epoch 17/50\n",
      " - 3s - loss: 0.2560 - acc: 0.8727\n",
      "Epoch 18/50\n",
      " - 3s - loss: 0.2559 - acc: 0.8729\n",
      "Epoch 19/50\n",
      " - 3s - loss: 0.2557 - acc: 0.8726\n",
      "Epoch 20/50\n",
      " - 3s - loss: 0.2556 - acc: 0.8728\n",
      "Epoch 21/50\n",
      " - 3s - loss: 0.2557 - acc: 0.8727\n",
      "Epoch 22/50\n",
      " - 3s - loss: 0.2556 - acc: 0.8729\n",
      "Epoch 23/50\n",
      " - 3s - loss: 0.2554 - acc: 0.8732\n",
      "Epoch 24/50\n",
      " - 3s - loss: 0.2553 - acc: 0.8728\n",
      "Epoch 25/50\n",
      " - 3s - loss: 0.2553 - acc: 0.8725\n",
      "Epoch 26/50\n",
      " - 3s - loss: 0.2553 - acc: 0.8727\n",
      "Epoch 27/50\n",
      " - 3s - loss: 0.2550 - acc: 0.8729\n",
      "Epoch 28/50\n",
      " - 3s - loss: 0.2549 - acc: 0.8732\n",
      "Epoch 29/50\n",
      " - 3s - loss: 0.2549 - acc: 0.8732\n",
      "Epoch 30/50\n",
      " - 3s - loss: 0.2548 - acc: 0.8730\n",
      "Epoch 31/50\n",
      " - 3s - loss: 0.2548 - acc: 0.8733\n",
      "Epoch 32/50\n",
      " - 3s - loss: 0.2546 - acc: 0.8735\n",
      "Epoch 33/50\n",
      " - 3s - loss: 0.2546 - acc: 0.8733\n",
      "Epoch 34/50\n",
      " - 3s - loss: 0.2546 - acc: 0.8730\n",
      "Epoch 35/50\n",
      " - 3s - loss: 0.2543 - acc: 0.8731\n",
      "Epoch 36/50\n",
      " - 3s - loss: 0.2544 - acc: 0.8735\n",
      "Epoch 37/50\n",
      " - 3s - loss: 0.2543 - acc: 0.8735\n",
      "Epoch 38/50\n",
      " - 3s - loss: 0.2542 - acc: 0.8735\n",
      "Epoch 39/50\n",
      " - 3s - loss: 0.2541 - acc: 0.8732\n",
      "Epoch 40/50\n",
      " - 3s - loss: 0.2542 - acc: 0.8735\n",
      "Epoch 41/50\n",
      " - 3s - loss: 0.2542 - acc: 0.8733\n",
      "Epoch 42/50\n",
      " - 3s - loss: 0.2541 - acc: 0.8733\n",
      "Epoch 43/50\n",
      " - 3s - loss: 0.2540 - acc: 0.8733\n",
      "Epoch 44/50\n",
      " - 3s - loss: 0.2540 - acc: 0.8736\n",
      "Epoch 45/50\n",
      " - 3s - loss: 0.2539 - acc: 0.8734\n",
      "Epoch 46/50\n",
      " - 3s - loss: 0.2539 - acc: 0.8733\n",
      "Epoch 47/50\n",
      " - 3s - loss: 0.2538 - acc: 0.8736\n",
      "Epoch 48/50\n",
      " - 3s - loss: 0.2538 - acc: 0.8737\n",
      "Epoch 49/50\n",
      " - 3s - loss: 0.2539 - acc: 0.8734\n",
      "Epoch 50/50\n",
      " - 3s - loss: 0.2538 - acc: 0.8738\n"
     ]
    },
    {
     "data": {
      "text/plain": [
       "<keras.callbacks.History at 0x1a1fbcada0>"
      ]
     },
     "execution_count": 26,
     "metadata": {},
     "output_type": "execute_result"
    }
   ],
   "source": [
    "model.fit(\n",
    "    X_train_scaled,\n",
    "    y_train,\n",
    "    epochs=50,\n",
    "    shuffle=True,\n",
    "    verbose=2\n",
    ")"
   ]
  },
  {
   "cell_type": "code",
   "execution_count": 27,
   "metadata": {},
   "outputs": [
    {
     "name": "stdout",
     "output_type": "stream",
     "text": [
      "Loss: 0.25567159434971415, Accuracy: 0.8726735062824927\n"
     ]
    }
   ],
   "source": [
    "model_loss, model_accuracy = model.evaluate(\n",
    "    X_test_scaled, y_test, verbose=2)\n",
    "print(f\"Loss: {model_loss}, Accuracy: {model_accuracy}\")"
   ]
  },
  {
   "cell_type": "code",
   "execution_count": 52,
   "metadata": {},
   "outputs": [],
   "source": [
    "user_dict={\n",
    "    'country': 'US',\n",
    "    'price': 25,\n",
    "    'region_1': 'Yolo County',\n",
    "    'variety': 'Albari√±o',\n",
    "    'year': 2015,\n",
    "    'description_len': 246,\n",
    "    'winery':'Berryessa Gap'\n",
    "}"
   ]
  },
  {
   "cell_type": "code",
   "execution_count": 53,
   "metadata": {},
   "outputs": [
    {
     "data": {
      "text/html": [
       "<div>\n",
       "<style scoped>\n",
       "    .dataframe tbody tr th:only-of-type {\n",
       "        vertical-align: middle;\n",
       "    }\n",
       "\n",
       "    .dataframe tbody tr th {\n",
       "        vertical-align: top;\n",
       "    }\n",
       "\n",
       "    .dataframe thead th {\n",
       "        text-align: right;\n",
       "    }\n",
       "</style>\n",
       "<table border=\"1\" class=\"dataframe\">\n",
       "  <thead>\n",
       "    <tr style=\"text-align: right;\">\n",
       "      <th></th>\n",
       "      <th>country</th>\n",
       "      <th>description_len</th>\n",
       "      <th>price</th>\n",
       "      <th>region_1</th>\n",
       "      <th>variety</th>\n",
       "      <th>winery</th>\n",
       "      <th>year</th>\n",
       "    </tr>\n",
       "  </thead>\n",
       "  <tbody>\n",
       "    <tr>\n",
       "      <th>0</th>\n",
       "      <td>US</td>\n",
       "      <td>246</td>\n",
       "      <td>25</td>\n",
       "      <td>Yolo County</td>\n",
       "      <td>Albari√±o</td>\n",
       "      <td>Berryessa Gap</td>\n",
       "      <td>2015</td>\n",
       "    </tr>\n",
       "  </tbody>\n",
       "</table>\n",
       "</div>"
      ],
      "text/plain": [
       "  country  description_len  price     region_1    variety         winery  year\n",
       "0      US              246     25  Yolo County  Albari√±o  Berryessa Gap  2015"
      ]
     },
     "execution_count": 53,
     "metadata": {},
     "output_type": "execute_result"
    }
   ],
   "source": [
    "user_input=pd.DataFrame(user_dict,index=[0])\n",
    "user_input"
   ]
  },
  {
   "cell_type": "code",
   "execution_count": 54,
   "metadata": {},
   "outputs": [
    {
     "data": {
      "text/html": [
       "<div>\n",
       "<style scoped>\n",
       "    .dataframe tbody tr th:only-of-type {\n",
       "        vertical-align: middle;\n",
       "    }\n",
       "\n",
       "    .dataframe tbody tr th {\n",
       "        vertical-align: top;\n",
       "    }\n",
       "\n",
       "    .dataframe thead th {\n",
       "        text-align: right;\n",
       "    }\n",
       "</style>\n",
       "<table border=\"1\" class=\"dataframe\">\n",
       "  <thead>\n",
       "    <tr style=\"text-align: right;\">\n",
       "      <th></th>\n",
       "      <th>country</th>\n",
       "      <th>region_1</th>\n",
       "      <th>variety</th>\n",
       "      <th>winery</th>\n",
       "    </tr>\n",
       "  </thead>\n",
       "  <tbody>\n",
       "    <tr>\n",
       "      <th>0</th>\n",
       "      <td>US</td>\n",
       "      <td>Yolo County</td>\n",
       "      <td>Albari√±o</td>\n",
       "      <td>Berryessa Gap</td>\n",
       "    </tr>\n",
       "  </tbody>\n",
       "</table>\n",
       "</div>"
      ],
      "text/plain": [
       "  country     region_1    variety         winery\n",
       "0      US  Yolo County  Albari√±o  Berryessa Gap"
      ]
     },
     "execution_count": 54,
     "metadata": {},
     "output_type": "execute_result"
    }
   ],
   "source": [
    "user_inputX = user_input.select_dtypes(include=[object])\n",
    "user_inputX.head(3)"
   ]
  },
  {
   "cell_type": "code",
   "execution_count": 55,
   "metadata": {},
   "outputs": [
    {
     "data": {
      "text/html": [
       "<div>\n",
       "<style scoped>\n",
       "    .dataframe tbody tr th:only-of-type {\n",
       "        vertical-align: middle;\n",
       "    }\n",
       "\n",
       "    .dataframe tbody tr th {\n",
       "        vertical-align: top;\n",
       "    }\n",
       "\n",
       "    .dataframe thead th {\n",
       "        text-align: right;\n",
       "    }\n",
       "</style>\n",
       "<table border=\"1\" class=\"dataframe\">\n",
       "  <thead>\n",
       "    <tr style=\"text-align: right;\">\n",
       "      <th></th>\n",
       "      <th>country</th>\n",
       "      <th>region_1</th>\n",
       "      <th>variety</th>\n",
       "      <th>winery</th>\n",
       "    </tr>\n",
       "  </thead>\n",
       "  <tbody>\n",
       "    <tr>\n",
       "      <th>0</th>\n",
       "      <td>0</td>\n",
       "      <td>0</td>\n",
       "      <td>0</td>\n",
       "      <td>0</td>\n",
       "    </tr>\n",
       "  </tbody>\n",
       "</table>\n",
       "</div>"
      ],
      "text/plain": [
       "   country  region_1  variety  winery\n",
       "0        0         0        0       0"
      ]
     },
     "execution_count": 55,
     "metadata": {},
     "output_type": "execute_result"
    }
   ],
   "source": [
    "# TODO: create a LabelEncoder object and fit it to each feature in X\n",
    "\n",
    "\n",
    "# 1. INSTANTIATE\n",
    "# encode labels with value between 0 and n_classes-1.\n",
    "le = preprocessing.LabelEncoder()\n",
    "\n",
    "\n",
    "# 2/3. FIT AND TRANSFORM\n",
    "# use df.apply() to apply le.fit_transform to all columns\n",
    "X_2 = user_inputX.apply(le.fit_transform)\n",
    "X_2.head()"
   ]
  },
  {
   "cell_type": "code",
   "execution_count": 56,
   "metadata": {},
   "outputs": [
    {
     "data": {
      "text/html": [
       "<div>\n",
       "<style scoped>\n",
       "    .dataframe tbody tr th:only-of-type {\n",
       "        vertical-align: middle;\n",
       "    }\n",
       "\n",
       "    .dataframe tbody tr th {\n",
       "        vertical-align: top;\n",
       "    }\n",
       "\n",
       "    .dataframe thead th {\n",
       "        text-align: right;\n",
       "    }\n",
       "</style>\n",
       "<table border=\"1\" class=\"dataframe\">\n",
       "  <thead>\n",
       "    <tr style=\"text-align: right;\">\n",
       "      <th></th>\n",
       "      <th>country</th>\n",
       "      <th>description_len</th>\n",
       "      <th>price</th>\n",
       "      <th>region_1</th>\n",
       "      <th>variety</th>\n",
       "      <th>winery</th>\n",
       "      <th>year</th>\n",
       "    </tr>\n",
       "  </thead>\n",
       "  <tbody>\n",
       "    <tr>\n",
       "      <th>0</th>\n",
       "      <td>0</td>\n",
       "      <td>246</td>\n",
       "      <td>25</td>\n",
       "      <td>0</td>\n",
       "      <td>0</td>\n",
       "      <td>0</td>\n",
       "      <td>2015</td>\n",
       "    </tr>\n",
       "  </tbody>\n",
       "</table>\n",
       "</div>"
      ],
      "text/plain": [
       "   country  description_len  price  region_1  variety  winery  year\n",
       "0        0              246     25         0        0       0  2015"
      ]
     },
     "execution_count": 56,
     "metadata": {},
     "output_type": "execute_result"
    }
   ],
   "source": [
    "new_user_data=pd.DataFrame({\n",
    "    'country': X_2['country'],\n",
    "    'price': user_input['price'],\n",
    "    'region_1': X_2['region_1'],\n",
    "    'variety': X_2['variety'],\n",
    "    'year': user_input['year'],\n",
    "    'description_len': user_input['description_len'],\n",
    "    'winery':X_2['winery']\n",
    "    \n",
    "}).reset_index(drop=True)\n",
    "\n",
    "new_user_data"
   ]
  },
  {
   "cell_type": "code",
   "execution_count": 57,
   "metadata": {},
   "outputs": [],
   "source": [
    "new_user_data=new_user_data[['country','price','region_1','variety','year','description_len','winery']]\n",
    "\n",
    "\n",
    "# country\tprice\tregion_1\tvariety\tyear\tdescription_len\twiner"
   ]
  },
  {
   "cell_type": "code",
   "execution_count": 58,
   "metadata": {},
   "outputs": [
    {
     "data": {
      "text/plain": [
       "array([[-2.91574344, -0.28234198, -1.65078094, -1.70835134,  1.22864131,\n",
       "         0.0110911 , -1.80053047]])"
      ]
     },
     "execution_count": 58,
     "metadata": {},
     "output_type": "execute_result"
    }
   ],
   "source": [
    "new_user_data_scalar=X_scaler.transform(new_user_data)\n",
    "new_user_data_scalar"
   ]
  },
  {
   "cell_type": "code",
   "execution_count": 59,
   "metadata": {},
   "outputs": [
    {
     "name": "stdout",
     "output_type": "stream",
     "text": [
      "Predicted class: [3]\n"
     ]
    }
   ],
   "source": [
    "print(f\"Predicted class: {model.predict_classes(new_user_data_scalar)}\")"
   ]
  },
  {
   "cell_type": "code",
   "execution_count": null,
   "metadata": {},
   "outputs": [],
   "source": []
  },
  {
   "cell_type": "code",
   "execution_count": null,
   "metadata": {},
   "outputs": [],
   "source": []
  }
 ],
 "metadata": {
  "kernelspec": {
   "display_name": "Python 3",
   "language": "python",
   "name": "python3"
  },
  "language_info": {
   "codemirror_mode": {
    "name": "ipython",
    "version": 3
   },
   "file_extension": ".py",
   "mimetype": "text/x-python",
   "name": "python",
   "nbconvert_exporter": "python",
   "pygments_lexer": "ipython3",
   "version": "3.6.5"
  }
 },
 "nbformat": 4,
 "nbformat_minor": 2
}
